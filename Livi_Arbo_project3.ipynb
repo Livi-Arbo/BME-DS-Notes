{
  "nbformat": 4,
  "nbformat_minor": 0,
  "metadata": {
    "colab": {
      "provenance": [],
      "include_colab_link": true
    },
    "kernelspec": {
      "name": "python3",
      "display_name": "Python 3"
    },
    "language_info": {
      "name": "python"
    }
  },
  "cells": [
    {
      "cell_type": "markdown",
      "metadata": {
        "id": "view-in-github",
        "colab_type": "text"
      },
      "source": [
        "<a href=\"https://colab.research.google.com/github/Livi-Arbo/BME-DS-Notes/blob/main/Livi_Arbo_project3.ipynb\" target=\"_parent\"><img src=\"https://colab.research.google.com/assets/colab-badge.svg\" alt=\"Open In Colab\"/></a>"
      ]
    },
    {
      "cell_type": "markdown",
      "metadata": {
        "id": "_rl1etUufft7"
      },
      "source": [
        "1. Do a scatterplot of each subject's left telencephalon **(type 1 level 1) volume** by their right (left on the vertical axis and right on the horizontal). The kirby 21 dataset can be found [here](https://raw.githubusercontent.com/bcaffo/ds4bme_intro/master/data/kirby21.csv)\n",
        "2. Create a vector of the left telencelphalon **(type 1 level 1) volume** values and the right. Demean each. Fit a regression through the origin model with the left telecephalon as the outcome and the right as the predictor. Also do the same with the left as the predictor and the right as the outcome. Plot the fitted lines on your scatterplot.\n",
        "3. Consider a regression through the origin model $Y=BX$. What would be the impact on the estimate of $B$ if we replaced $X$ by $cX$ where $c$ is a positive constant?\n",
        "4. Let $X_i$ be a group indicator so that\n",
        "$$\n",
        "X_i = I(i \\in G_1)\n",
        "$$\n",
        "I.e. takes the value $1$ when $i$ is in group 1 and 0 if $i$ is in group 0. Consider optimizing\n",
        "$$\n",
        "\\sum_{i=1}^n (Y_i - \\beta_0 - \\beta_1 X_i)^2.\n",
        "$$\n",
        "If $\\hat Y = \\hat \\beta_0 + \\hat \\beta_1 X$ argue that $\\hat Y$ is the group mean for group 1 if $X=1$ and the group mean for group 0 if $X=0$.\n",
        "5. Write a python function that takes an X and Y vector and returns an estimated $\\beta_0$ and $\\beta_1$ from linear regression using only basic functions such as mean, sd and correlation.\n",
        "6. Argue that if you take the vectors $Y$ and $X$ and divide them by their standard deviations (respectively), the slope for either regressing $Y$ on $X$ or $X$ on $Y$ is simply the correlation. Note formal proof is not required, just the argument."
      ]
    },
    {
      "cell_type": "markdown",
      "source": [
        "*use photos from class to work on 4... I had it all typed but didn't save it RIP. go to office hours if needed :/ or watch zoom recording"
      ],
      "metadata": {
        "id": "KX8nGcFdKULa"
      }
    }
  ]
}